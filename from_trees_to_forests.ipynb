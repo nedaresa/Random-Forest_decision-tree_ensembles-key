{
 "cells": [
  {
   "cell_type": "markdown",
   "metadata": {},
   "source": [
    "# Ensembles: From Decision Trees to Extra Trees"
   ]
  },
  {
   "cell_type": "code",
   "execution_count": 78,
   "metadata": {},
   "outputs": [],
   "source": [
    "import numpy as np\n",
    "import pandas as pd\n",
    "from sklearn.model_selection import train_test_split, GridSearchCV\n",
    "from sklearn.tree import DecisionTreeRegressor\n",
    "from sklearn.ensemble import BaggingRegressor, RandomForestRegressor, ExtraTreesRegressor\n",
    "\n",
    "cars = pd.read_csv('./cars.csv')"
   ]
  },
  {
   "cell_type": "code",
   "execution_count": 79,
   "metadata": {},
   "outputs": [
    {
     "data": {
      "text/plain": [
       "(261, 8)"
      ]
     },
     "execution_count": 79,
     "metadata": {},
     "output_type": "execute_result"
    }
   ],
   "source": [
    "cars.shape"
   ]
  },
  {
   "cell_type": "code",
   "execution_count": 80,
   "metadata": {},
   "outputs": [
    {
     "data": {
      "text/html": [
       "<div>\n",
       "<style scoped>\n",
       "    .dataframe tbody tr th:only-of-type {\n",
       "        vertical-align: middle;\n",
       "    }\n",
       "\n",
       "    .dataframe tbody tr th {\n",
       "        vertical-align: top;\n",
       "    }\n",
       "\n",
       "    .dataframe thead th {\n",
       "        text-align: right;\n",
       "    }\n",
       "</style>\n",
       "<table border=\"1\" class=\"dataframe\">\n",
       "  <thead>\n",
       "    <tr style=\"text-align: right;\">\n",
       "      <th></th>\n",
       "      <th>mpg</th>\n",
       "      <th>cylinders</th>\n",
       "      <th>cubicinches</th>\n",
       "      <th>hp</th>\n",
       "      <th>weightlbs</th>\n",
       "      <th>time-to-60</th>\n",
       "      <th>year</th>\n",
       "      <th>brand</th>\n",
       "    </tr>\n",
       "  </thead>\n",
       "  <tbody>\n",
       "    <tr>\n",
       "      <th>256</th>\n",
       "      <td>17.0</td>\n",
       "      <td>8</td>\n",
       "      <td>305</td>\n",
       "      <td>130</td>\n",
       "      <td>3840</td>\n",
       "      <td>15</td>\n",
       "      <td>1980</td>\n",
       "      <td>US.</td>\n",
       "    </tr>\n",
       "    <tr>\n",
       "      <th>257</th>\n",
       "      <td>36.1</td>\n",
       "      <td>4</td>\n",
       "      <td>91</td>\n",
       "      <td>60</td>\n",
       "      <td>1800</td>\n",
       "      <td>16</td>\n",
       "      <td>1979</td>\n",
       "      <td>Japan.</td>\n",
       "    </tr>\n",
       "    <tr>\n",
       "      <th>258</th>\n",
       "      <td>22.0</td>\n",
       "      <td>6</td>\n",
       "      <td>232</td>\n",
       "      <td>112</td>\n",
       "      <td>2835</td>\n",
       "      <td>15</td>\n",
       "      <td>1983</td>\n",
       "      <td>US.</td>\n",
       "    </tr>\n",
       "    <tr>\n",
       "      <th>259</th>\n",
       "      <td>18.0</td>\n",
       "      <td>6</td>\n",
       "      <td>232</td>\n",
       "      <td>100</td>\n",
       "      <td>3288</td>\n",
       "      <td>16</td>\n",
       "      <td>1972</td>\n",
       "      <td>US.</td>\n",
       "    </tr>\n",
       "    <tr>\n",
       "      <th>260</th>\n",
       "      <td>22.0</td>\n",
       "      <td>6</td>\n",
       "      <td>250</td>\n",
       "      <td>105</td>\n",
       "      <td>3353</td>\n",
       "      <td>15</td>\n",
       "      <td>1977</td>\n",
       "      <td>US.</td>\n",
       "    </tr>\n",
       "  </tbody>\n",
       "</table>\n",
       "</div>"
      ],
      "text/plain": [
       "      mpg   cylinders  cubicinches   hp  weightlbs   time-to-60   year  \\\n",
       "256  17.0           8          305  130       3840           15   1980   \n",
       "257  36.1           4           91   60       1800           16   1979   \n",
       "258  22.0           6          232  112       2835           15   1983   \n",
       "259  18.0           6          232  100       3288           16   1972   \n",
       "260  22.0           6          250  105       3353           15   1977   \n",
       "\n",
       "       brand  \n",
       "256      US.  \n",
       "257   Japan.  \n",
       "258      US.  \n",
       "259      US.  \n",
       "260      US.  "
      ]
     },
     "execution_count": 80,
     "metadata": {},
     "output_type": "execute_result"
    }
   ],
   "source": [
    "cars.tail()"
   ]
  },
  {
   "cell_type": "code",
   "execution_count": 81,
   "metadata": {},
   "outputs": [
    {
     "data": {
      "text/plain": [
       "mpg             float64\n",
       " cylinders        int64\n",
       " cubicinches     object\n",
       " hp               int64\n",
       " weightlbs       object\n",
       " time-to-60       int64\n",
       " year             int64\n",
       " brand           object\n",
       "dtype: object"
      ]
     },
     "execution_count": 81,
     "metadata": {},
     "output_type": "execute_result"
    }
   ],
   "source": [
    "# Let's check the datatypes of these columns.\n",
    "\n",
    "cars.dtypes"
   ]
  },
  {
   "cell_type": "code",
   "execution_count": 82,
   "metadata": {
    "scrolled": true
   },
   "outputs": [
    {
     "data": {
      "text/plain": [
       "mpg             0\n",
       " cylinders      0\n",
       " cubicinches    0\n",
       " hp             0\n",
       " weightlbs      0\n",
       " time-to-60     0\n",
       " year           0\n",
       " brand          0\n",
       "dtype: int64"
      ]
     },
     "execution_count": 82,
     "metadata": {},
     "output_type": "execute_result"
    }
   ],
   "source": [
    "# Let's look for nulls.\n",
    "\n",
    "cars.isnull().sum()"
   ]
  },
  {
   "cell_type": "code",
   "execution_count": 83,
   "metadata": {},
   "outputs": [
    {
     "data": {
      "text/plain": [
       "Index(['mpg', ' cylinders', ' cubicinches', ' hp', ' weightlbs', ' time-to-60',\n",
       "       ' year', ' brand'],\n",
       "      dtype='object')"
      ]
     },
     "execution_count": 83,
     "metadata": {},
     "output_type": "execute_result"
    }
   ],
   "source": [
    "cars.columns"
   ]
  },
  {
   "cell_type": "code",
   "execution_count": 84,
   "metadata": {},
   "outputs": [
    {
     "data": {
      "text/plain": [
       "array(['350', '89', '302', '400', '98', '351', '440', '183', '108', '97',\n",
       "       '225', '85', '304', '113', '107', '86', '121', '200', '91', '71',\n",
       "       '250', '120', '199', '231', '80', '232', ' ', '455', '318', '122',\n",
       "       '141', '340', '116', '156', '90', '360', '168', '305', '198',\n",
       "       '112', '119', '262', '134', '429', '115', '72', '105', '151', '88',\n",
       "       '307', '101', '79', '140', '114', '173', '144', '81', '267', '70',\n",
       "       '163', '171', '260', '131', '68', '96', '135', '390', '146', '258',\n",
       "       '83', '76', '383', '130', '110', '454'], dtype=object)"
      ]
     },
     "execution_count": 84,
     "metadata": {},
     "output_type": "execute_result"
    }
   ],
   "source": [
    "cars[' cubicinches'].unique()"
   ]
  },
  {
   "cell_type": "code",
   "execution_count": 85,
   "metadata": {},
   "outputs": [],
   "source": [
    "cars[' cubicinches'].replace(' ', np.nan, inplace =True)"
   ]
  },
  {
   "cell_type": "code",
   "execution_count": 86,
   "metadata": {},
   "outputs": [],
   "source": [
    "# Great! Let's map the cubicinches values to floats.\n",
    "\n",
    "cars[' cubicinches'] = cars[' cubicinches'].map(float)\n",
    "\n"
   ]
  },
  {
   "cell_type": "code",
   "execution_count": 87,
   "metadata": {},
   "outputs": [],
   "source": [
    "cars[' cubicinches'].replace(np.nan, cars[' cubicinches'].mean(),\n",
    "                                       inplace=True)"
   ]
  },
  {
   "cell_type": "code",
   "execution_count": 88,
   "metadata": {},
   "outputs": [
    {
     "data": {
      "text/html": [
       "<div>\n",
       "<style scoped>\n",
       "    .dataframe tbody tr th:only-of-type {\n",
       "        vertical-align: middle;\n",
       "    }\n",
       "\n",
       "    .dataframe tbody tr th {\n",
       "        vertical-align: top;\n",
       "    }\n",
       "\n",
       "    .dataframe thead th {\n",
       "        text-align: right;\n",
       "    }\n",
       "</style>\n",
       "<table border=\"1\" class=\"dataframe\">\n",
       "  <thead>\n",
       "    <tr style=\"text-align: right;\">\n",
       "      <th></th>\n",
       "      <th>mpg</th>\n",
       "      <th>cylinders</th>\n",
       "      <th>cubicinches</th>\n",
       "      <th>hp</th>\n",
       "      <th>weightlbs</th>\n",
       "      <th>time-to-60</th>\n",
       "      <th>year</th>\n",
       "      <th>brand</th>\n",
       "    </tr>\n",
       "  </thead>\n",
       "  <tbody>\n",
       "    <tr>\n",
       "      <th>14</th>\n",
       "      <td>19.1</td>\n",
       "      <td>6</td>\n",
       "      <td>225.0</td>\n",
       "      <td>90</td>\n",
       "      <td></td>\n",
       "      <td>19</td>\n",
       "      <td>1981</td>\n",
       "      <td>US.</td>\n",
       "    </tr>\n",
       "    <tr>\n",
       "      <th>33</th>\n",
       "      <td>21.0</td>\n",
       "      <td>6</td>\n",
       "      <td>199.0</td>\n",
       "      <td>90</td>\n",
       "      <td></td>\n",
       "      <td>15</td>\n",
       "      <td>1971</td>\n",
       "      <td>US.</td>\n",
       "    </tr>\n",
       "    <tr>\n",
       "      <th>172</th>\n",
       "      <td>29.0</td>\n",
       "      <td>4</td>\n",
       "      <td>68.0</td>\n",
       "      <td>49</td>\n",
       "      <td></td>\n",
       "      <td>20</td>\n",
       "      <td>1974</td>\n",
       "      <td>Europe.</td>\n",
       "    </tr>\n",
       "  </tbody>\n",
       "</table>\n",
       "</div>"
      ],
      "text/plain": [
       "      mpg   cylinders   cubicinches   hp  weightlbs   time-to-60   year  \\\n",
       "14   19.1           6         225.0   90                      19   1981   \n",
       "33   21.0           6         199.0   90                      15   1971   \n",
       "172  29.0           4          68.0   49                      20   1974   \n",
       "\n",
       "        brand  \n",
       "14        US.  \n",
       "33        US.  \n",
       "172   Europe.  "
      ]
     },
     "execution_count": 88,
     "metadata": {},
     "output_type": "execute_result"
    }
   ],
   "source": [
    "cars[cars[' weightlbs']==' ']"
   ]
  },
  {
   "cell_type": "code",
   "execution_count": 89,
   "metadata": {},
   "outputs": [],
   "source": [
    "# Fix the problem!\n",
    "cars[' weightlbs'].replace(' ', np.nan, inplace =True)\n"
   ]
  },
  {
   "cell_type": "code",
   "execution_count": 92,
   "metadata": {},
   "outputs": [],
   "source": [
    "cars[' weightlbs'] = cars[' weightlbs'].map(float)\n"
   ]
  },
  {
   "cell_type": "code",
   "execution_count": 93,
   "metadata": {},
   "outputs": [],
   "source": [
    "cars[' weightlbs'].replace(np.nan, cars[' weightlbs'].mean(),\n",
    "                                       inplace=True)\n"
   ]
  },
  {
   "cell_type": "code",
   "execution_count": 94,
   "metadata": {},
   "outputs": [
    {
     "data": {
      "text/plain": [
       "mpg             1.000000\n",
       " cylinders     -0.776710\n",
       " cubicinches   -0.802379\n",
       " hp            -0.774905\n",
       " weightlbs     -0.823800\n",
       " time-to-60     0.509070\n",
       " year           0.550441\n",
       "Name: mpg, dtype: float64"
      ]
     },
     "execution_count": 94,
     "metadata": {},
     "output_type": "execute_result"
    }
   ],
   "source": [
    "# Let's check the correlations of the other features with MPG.\n",
    "\n",
    "cars.corr()['mpg']"
   ]
  },
  {
   "cell_type": "markdown",
   "metadata": {},
   "source": [
    "## Fitting a Decision Tree"
   ]
  },
  {
   "cell_type": "code",
   "execution_count": 95,
   "metadata": {},
   "outputs": [
    {
     "data": {
      "text/plain": [
       "DecisionTreeRegressor(criterion='mse', max_depth=2, max_features=None,\n",
       "           max_leaf_nodes=None, min_impurity_decrease=0.0,\n",
       "           min_impurity_split=None, min_samples_leaf=1,\n",
       "           min_samples_split=2, min_weight_fraction_leaf=0.0,\n",
       "           presort=False, random_state=1, splitter='best')"
      ]
     },
     "execution_count": 95,
     "metadata": {},
     "output_type": "execute_result"
    }
   ],
   "source": [
    "X = cars.drop(['mpg', ' brand'], axis=1)\n",
    "y = cars['mpg']\n",
    "\n",
    "X_train, X_test, y_train, y_test = train_test_split(X, y,\n",
    "                                                   random_state=1)\n",
    "\n",
    "rt = DecisionTreeRegressor(random_state=1, max_depth=2)\n",
    "rt.fit(X_train, y_train)"
   ]
  },
  {
   "cell_type": "code",
   "execution_count": 98,
   "metadata": {},
   "outputs": [
    {
     "data": {
      "text/plain": [
       "0.7564606978033231"
      ]
     },
     "execution_count": 98,
     "metadata": {},
     "output_type": "execute_result"
    }
   ],
   "source": [
    "rt.score(X_train, y_train)"
   ]
  },
  {
   "cell_type": "code",
   "execution_count": 99,
   "metadata": {},
   "outputs": [
    {
     "data": {
      "text/plain": [
       "0.5892766814442141"
      ]
     },
     "execution_count": 99,
     "metadata": {},
     "output_type": "execute_result"
    }
   ],
   "source": [
    "rt.score(X_test, y_test)"
   ]
  },
  {
   "cell_type": "code",
   "execution_count": 100,
   "metadata": {},
   "outputs": [
    {
     "data": {
      "text/plain": [
       "array([0.        , 0.        , 0.07920177, 0.79747809, 0.        ,\n",
       "       0.12332014])"
      ]
     },
     "execution_count": 100,
     "metadata": {},
     "output_type": "execute_result"
    }
   ],
   "source": [
    "rt.feature_importances_"
   ]
  },
  {
   "cell_type": "code",
   "execution_count": 101,
   "metadata": {},
   "outputs": [],
   "source": [
    "from sklearn.tree import export_graphviz\n",
    "import pydotplus\n",
    "from sklearn.externals.six import StringIO\n",
    "from IPython.display import Image"
   ]
  },
  {
   "cell_type": "code",
   "execution_count": 102,
   "metadata": {},
   "outputs": [
    {
     "data": {
      "image/png": "[encoded data removed]",
      "text/plain": [
       "<IPython.core.display.Image object>"
      ]
     },
     "execution_count": 102,
     "metadata": {},
     "output_type": "execute_result"
    }
   ],
   "source": [
    "dot_file = StringIO()\n",
    "\n",
    "export_graphviz(rt, out_file=dot_file, filled=True, rounded=True)\n",
    "\n",
    "image = pydotplus.graph_from_dot_data(dot_file.getvalue())\n",
    "Image(image.create_png())"
   ]
  },
  {
   "cell_type": "markdown",
   "metadata": {},
   "source": [
    "A single decision tree will often overfit your training data. There are steps one can take to help with this, like limiting the \"depth\" of the nodes. But it's often better to do something else: Plant another tree!\n",
    "\n",
    "Of course, if a second tree is going to be of any value, it has to be *different from* the first. Here's a good algorithm for achieving that:\n",
    "\n",
    "## Fitting a Set of Bagged Decision Trees\n",
    "\n",
    "### Bagging Algorithm\n",
    "\n",
    "Take a sample of your X_train and fit a decision tree to it. <br/>\n",
    "Replace the first batch of data and repeat. <br/>\n",
    "When you've got as many trees as you like, make use of all your individual trees' predictions to come up with some holistic prediction. (Most obviously, we could take the average of our predictions, but there are other methods we might try.)\n",
    "\n",
    "<br/>\n",
    "\n",
    "Because we're resampling our data with replacement, we're *bootstrapping*. <br/>\n",
    "Because we're making use of our many samples' predictions, we're *aggregating*. <br/>\n",
    "Because we're bootstrapping and aggregating all in the same algorithm, we're *bagging*."
   ]
  },
  {
   "cell_type": "code",
   "execution_count": 103,
   "metadata": {},
   "outputs": [],
   "source": [
    "# Instantiate a bagging regressor (bootstrapping plus aggregating)\n",
    "#100 number of trees\n",
    "bag = BaggingRegressor(n_estimators=100, max_features=X.shape[1], \n",
    "                      max_samples=20, random_state=1)"
   ]
  },
  {
   "cell_type": "code",
   "execution_count": 104,
   "metadata": {},
   "outputs": [
    {
     "data": {
      "text/plain": [
       "BaggingRegressor(base_estimator=None, bootstrap=True,\n",
       "         bootstrap_features=False, max_features=6, max_samples=20,\n",
       "         n_estimators=100, n_jobs=None, oob_score=False, random_state=1,\n",
       "         verbose=0, warm_start=False)"
      ]
     },
     "execution_count": 104,
     "metadata": {},
     "output_type": "execute_result"
    }
   ],
   "source": [
    "# Fit it.\n",
    "\n",
    "bag.fit(X_train, y_train)"
   ]
  },
  {
   "cell_type": "code",
   "execution_count": 106,
   "metadata": {},
   "outputs": [
    {
     "data": {
      "text/plain": [
       "0.8573386595679962"
      ]
     },
     "execution_count": 106,
     "metadata": {},
     "output_type": "execute_result"
    }
   ],
   "source": [
    "bag.score(X_train, y_train)"
   ]
  },
  {
   "cell_type": "code",
   "execution_count": 105,
   "metadata": {},
   "outputs": [
    {
     "data": {
      "text/plain": [
       "0.8201564187671238"
      ]
     },
     "execution_count": 105,
     "metadata": {},
     "output_type": "execute_result"
    }
   ],
   "source": [
    "# Score it.\n",
    "\n",
    "bag.score(X_test, y_test)   #score runs .predict first so no need to separately run bag.predict on X_test"
   ]
  },
  {
   "cell_type": "markdown",
   "metadata": {},
   "source": [
    "That's a significant improvement in $R^2$! Let's see if we can do even better.\n",
    "\n",
    "## Fitting a Random Forest\n",
    "\n",
    "### Random Forest Algorithm\n",
    "\n",
    "Let's add an extra layer of randomization: Instead of using *all* the features of my model to optimize a branch at each node, I'll just choose a subset of my features."
   ]
  },
  {
   "cell_type": "code",
   "execution_count": 108,
   "metadata": {},
   "outputs": [
    {
     "data": {
      "text/plain": [
       "RandomForestRegressor(bootstrap=True, criterion='mse', max_depth=None,\n",
       "           max_features='sqrt', max_leaf_nodes=None,\n",
       "           min_impurity_decrease=0.0, min_impurity_split=None,\n",
       "           min_samples_leaf=1, min_samples_split=2,\n",
       "           min_weight_fraction_leaf=0.0, n_estimators=100, n_jobs=None,\n",
       "           oob_score=False, random_state=1, verbose=0, warm_start=False)"
      ]
     },
     "execution_count": 108,
     "metadata": {},
     "output_type": "execute_result"
    }
   ],
   "source": [
    "# Let's try a forest with 100 trees.\n",
    "rf = RandomForestRegressor(n_estimators=100, max_features='sqrt', random_state=1)   #takes sqrt(6) for # of n of features\n",
    "rf.fit(X_train, y_train)"
   ]
  },
  {
   "cell_type": "code",
   "execution_count": 109,
   "metadata": {},
   "outputs": [
    {
     "data": {
      "text/plain": [
       "0.8516210778043055"
      ]
     },
     "execution_count": 109,
     "metadata": {},
     "output_type": "execute_result"
    }
   ],
   "source": [
    "# Score it.\n",
    "\n",
    "rf.score(X_test, y_test)"
   ]
  },
  {
   "cell_type": "code",
   "execution_count": 110,
   "metadata": {},
   "outputs": [
    {
     "data": {
      "text/plain": [
       "array([0.15294592, 0.21118022, 0.18267987, 0.29542318, 0.03243333,\n",
       "       0.12533748])"
      ]
     },
     "execution_count": 110,
     "metadata": {},
     "output_type": "execute_result"
    }
   ],
   "source": [
    "rf.feature_importances_"
   ]
  },
  {
   "cell_type": "markdown",
   "metadata": {},
   "source": [
    "## Fitting a Stand of Extremely Randomized Trees\n",
    "\n",
    "### Extra Trees Algorithm\n",
    "\n",
    "Sometimes we might want even one more bit of randomization. Instead of always choosing the *optimal* branching path, we might just choose a branching path at random. If we're doing that, then we've got extremely randomized trees."
   ]
  },
  {
   "cell_type": "code",
   "execution_count": 111,
   "metadata": {},
   "outputs": [
    {
     "data": {
      "text/plain": [
       "ExtraTreesRegressor(bootstrap=False, criterion='mse', max_depth=None,\n",
       "          max_features='auto', max_leaf_nodes=None,\n",
       "          min_impurity_decrease=0.0, min_impurity_split=None,\n",
       "          min_samples_leaf=1, min_samples_split=2,\n",
       "          min_weight_fraction_leaf=0.0, n_estimators=100, n_jobs=None,\n",
       "          oob_score=False, random_state=1, verbose=0, warm_start=False)"
      ]
     },
     "execution_count": 111,
     "metadata": {},
     "output_type": "execute_result"
    }
   ],
   "source": [
    "# Again let's try 100 trees.\n",
    "\n",
    "et = ExtraTreesRegressor(n_estimators=100, random_state=1)\n",
    "et.fit(X_train, y_train)"
   ]
  },
  {
   "cell_type": "code",
   "execution_count": 114,
   "metadata": {},
   "outputs": [
    {
     "data": {
      "text/plain": [
       "0.9999998119966201"
      ]
     },
     "execution_count": 114,
     "metadata": {},
     "output_type": "execute_result"
    }
   ],
   "source": [
    "et.score(X_train, y_train)"
   ]
  },
  {
   "cell_type": "code",
   "execution_count": 112,
   "metadata": {},
   "outputs": [
    {
     "data": {
      "text/plain": [
       "0.8572817901031855"
      ]
     },
     "execution_count": 112,
     "metadata": {},
     "output_type": "execute_result"
    }
   ],
   "source": [
    "# Scoring\n",
    "\n",
    "et.score(X_test, y_test)"
   ]
  },
  {
   "cell_type": "code",
   "execution_count": 113,
   "metadata": {
    "scrolled": true
   },
   "outputs": [
    {
     "data": {
      "text/plain": [
       "array([0.33590799, 0.15804332, 0.13631364, 0.19342524, 0.02600313,\n",
       "       0.15030668])"
      ]
     },
     "execution_count": 113,
     "metadata": {},
     "output_type": "execute_result"
    }
   ],
   "source": [
    "# Checking the feature importances\n",
    "\n",
    "et.feature_importances_"
   ]
  },
  {
   "cell_type": "markdown",
   "metadata": {},
   "source": [
    "## Gridsearching"
   ]
  },
  {
   "cell_type": "code",
   "execution_count": 115,
   "metadata": {},
   "outputs": [],
   "source": [
    "# Define param grid.checks for range of hyperparameters, evaluates and cross validates all.\n",
    "param_grid = {\n",
    "    'n_estimators':[50, 100, 300],\n",
    "    'min_samples_leaf': [1,2,3],\n",
    "    'min_samples_split': [2,3,4]\n",
    "}\n"
   ]
  },
  {
   "cell_type": "code",
   "execution_count": 118,
   "metadata": {},
   "outputs": [],
   "source": [
    "# Initialize the gridsearch object with five-fold cross-validation.\n",
    "\n",
    "gs = GridSearchCV(estimator=et, param_grid=param_grid, cv=5)   \n",
    "#cv splits the train into 5 groups (4 of which are train and one is test, it then tests the 4 sub train groups on the 5th sub test group inside the train"
   ]
  },
  {
   "cell_type": "code",
   "execution_count": 119,
   "metadata": {},
   "outputs": [
    {
     "data": {
      "text/plain": [
       "GridSearchCV(cv=5, error_score='raise-deprecating',\n",
       "       estimator=ExtraTreesRegressor(bootstrap=False, criterion='mse', max_depth=None,\n",
       "          max_features='auto', max_leaf_nodes=None,\n",
       "          min_impurity_decrease=0.0, min_impurity_split=None,\n",
       "          min_samples_leaf=1, min_samples_split=2,\n",
       "          min_weight_fraction_leaf=0.0, n_estimators=100, n_jobs=None,\n",
       "          oob_score=False, random_state=1, verbose=0, warm_start=False),\n",
       "       fit_params=None, iid='warn', n_jobs=None,\n",
       "       param_grid={'n_estimators': [50, 100, 300], 'min_samples_leaf': [1, 2, 3], 'min_samples_split': [2, 3, 4]},\n",
       "       pre_dispatch='2*n_jobs', refit=True, return_train_score='warn',\n",
       "       scoring=None, verbose=0)"
      ]
     },
     "execution_count": 119,
     "metadata": {},
     "output_type": "execute_result"
    }
   ],
   "source": [
    "# Fit it.\n",
    "gs.fit(X_train, y_train)\n"
   ]
  },
  {
   "cell_type": "code",
   "execution_count": 120,
   "metadata": {},
   "outputs": [
    {
     "data": {
      "text/plain": [
       "0.8562151373703347"
      ]
     },
     "execution_count": 120,
     "metadata": {},
     "output_type": "execute_result"
    }
   ],
   "source": [
    "# Score it.\n",
    "\n",
    "gs.score(X_test, y_test)"
   ]
  },
  {
   "cell_type": "code",
   "execution_count": 121,
   "metadata": {
    "scrolled": true
   },
   "outputs": [
    {
     "data": {
      "text/plain": [
       "{'min_samples_leaf': 3, 'min_samples_split': 2, 'n_estimators': 100}"
      ]
     },
     "execution_count": 121,
     "metadata": {},
     "output_type": "execute_result"
    }
   ],
   "source": [
    "# Get the best parameter values!\n",
    "\n",
    "gs.best_params_"
   ]
  },
  {
   "cell_type": "code",
   "execution_count": 122,
   "metadata": {},
   "outputs": [
    {
     "data": {
      "text/plain": [
       "0.8624070922926678"
      ]
     },
     "execution_count": 122,
     "metadata": {},
     "output_type": "execute_result"
    }
   ],
   "source": [
    "# And the best score\n",
    "\n",
    "gs.best_score_"
   ]
  },
  {
   "cell_type": "code",
   "execution_count": 123,
   "metadata": {},
   "outputs": [
    {
     "data": {
      "text/plain": [
       "ExtraTreesRegressor(bootstrap=False, criterion='mse', max_depth=None,\n",
       "          max_features='auto', max_leaf_nodes=None,\n",
       "          min_impurity_decrease=0.0, min_impurity_split=None,\n",
       "          min_samples_leaf=3, min_samples_split=2,\n",
       "          min_weight_fraction_leaf=0.0, n_estimators=100, n_jobs=None,\n",
       "          oob_score=False, random_state=1, verbose=0, warm_start=False)"
      ]
     },
     "execution_count": 123,
     "metadata": {},
     "output_type": "execute_result"
    }
   ],
   "source": [
    "# And the best estimator\n",
    "\n",
    "gs.best_estimator_"
   ]
  },
  {
   "cell_type": "code",
   "execution_count": 126,
   "metadata": {},
   "outputs": [
    {
     "data": {
      "text/plain": [
       "array([0.35672319, 0.15121112, 0.13438282, 0.20284525, 0.008387  ,\n",
       "       0.14645062])"
      ]
     },
     "execution_count": 126,
     "metadata": {},
     "output_type": "execute_result"
    }
   ],
   "source": [
    "gs.best_estimator_.feature_importances_    #shows how often we use features in making splits"
   ]
  },
  {
   "cell_type": "code",
   "execution_count": 124,
   "metadata": {},
   "outputs": [
    {
     "data": {
      "text/plain": [
       "19"
      ]
     },
     "execution_count": 124,
     "metadata": {},
     "output_type": "execute_result"
    }
   ],
   "source": [
    "gs.best_index_  "
   ]
  },
  {
   "cell_type": "code",
   "execution_count": 125,
   "metadata": {},
   "outputs": [
    {
     "name": "stderr",
     "output_type": "stream",
     "text": [
      "/Users/flatironschool/anaconda3/envs/learn/lib/python3.7/site-packages/sklearn/utils/deprecation.py:125: FutureWarning: You are accessing a training score ('split0_train_score'), which will not be available by default any more in 0.21. If you need training scores, please set return_train_score=True\n",
      "  warnings.warn(*warn_args, **warn_kwargs)\n",
      "/Users/flatironschool/anaconda3/envs/learn/lib/python3.7/site-packages/sklearn/utils/deprecation.py:125: FutureWarning: You are accessing a training score ('split1_train_score'), which will not be available by default any more in 0.21. If you need training scores, please set return_train_score=True\n",
      "  warnings.warn(*warn_args, **warn_kwargs)\n",
      "/Users/flatironschool/anaconda3/envs/learn/lib/python3.7/site-packages/sklearn/utils/deprecation.py:125: FutureWarning: You are accessing a training score ('split2_train_score'), which will not be available by default any more in 0.21. If you need training scores, please set return_train_score=True\n",
      "  warnings.warn(*warn_args, **warn_kwargs)\n",
      "/Users/flatironschool/anaconda3/envs/learn/lib/python3.7/site-packages/sklearn/utils/deprecation.py:125: FutureWarning: You are accessing a training score ('split3_train_score'), which will not be available by default any more in 0.21. If you need training scores, please set return_train_score=True\n",
      "  warnings.warn(*warn_args, **warn_kwargs)\n",
      "/Users/flatironschool/anaconda3/envs/learn/lib/python3.7/site-packages/sklearn/utils/deprecation.py:125: FutureWarning: You are accessing a training score ('split4_train_score'), which will not be available by default any more in 0.21. If you need training scores, please set return_train_score=True\n",
      "  warnings.warn(*warn_args, **warn_kwargs)\n",
      "/Users/flatironschool/anaconda3/envs/learn/lib/python3.7/site-packages/sklearn/utils/deprecation.py:125: FutureWarning: You are accessing a training score ('mean_train_score'), which will not be available by default any more in 0.21. If you need training scores, please set return_train_score=True\n",
      "  warnings.warn(*warn_args, **warn_kwargs)\n",
      "/Users/flatironschool/anaconda3/envs/learn/lib/python3.7/site-packages/sklearn/utils/deprecation.py:125: FutureWarning: You are accessing a training score ('std_train_score'), which will not be available by default any more in 0.21. If you need training scores, please set return_train_score=True\n",
      "  warnings.warn(*warn_args, **warn_kwargs)\n"
     ]
    },
    {
     "data": {
      "text/plain": [
       "{'mean_fit_time': array([0.04008112, 0.05176263, 0.16347661, 0.02782154, 0.05342264,\n",
       "        0.15054326, 0.02419558, 0.0464716 , 0.15057182, 0.02568731,\n",
       "        0.04959016, 0.14075713, 0.02682428, 0.05239372, 0.15575948,\n",
       "        0.02580833, 0.04478965, 0.14038224, 0.02281384, 0.04506865,\n",
       "        0.13046799, 0.0236784 , 0.05114961, 0.13096495, 0.02397189,\n",
       "        0.04604621, 0.13144379]),\n",
       " 'std_fit_time': array([0.01078165, 0.00097753, 0.00883022, 0.00111084, 0.00486117,\n",
       "        0.01393297, 0.00040986, 0.00046722, 0.00926096, 0.00161755,\n",
       "        0.00318318, 0.00669097, 0.00129628, 0.00515558, 0.02409684,\n",
       "        0.00223799, 0.00039054, 0.0066671 , 0.0002868 , 0.00162958,\n",
       "        0.00653051, 0.00054144, 0.01039043, 0.00658079, 0.00056844,\n",
       "        0.00288218, 0.00431245]),\n",
       " 'mean_score_time': array([0.00459161, 0.00502191, 0.01415205, 0.00314717, 0.00524297,\n",
       "        0.01299939, 0.0029954 , 0.00486321, 0.01387305, 0.00324373,\n",
       "        0.00565057, 0.01211743, 0.00345426, 0.00545111, 0.01302676,\n",
       "        0.00293956, 0.00467219, 0.01467671, 0.00309439, 0.00504079,\n",
       "        0.01221266, 0.00335636, 0.00543718, 0.01166782, 0.00336118,\n",
       "        0.00478463, 0.01218576]),\n",
       " 'std_score_time': array([1.30026274e-03, 3.23781721e-04, 1.71550895e-03, 1.86831979e-04,\n",
       "        2.87083160e-04, 1.42838112e-03, 1.26566326e-04, 2.01802668e-04,\n",
       "        5.34263839e-04, 3.14938919e-04, 1.00955255e-03, 6.76349688e-04,\n",
       "        9.02623142e-05, 1.20707128e-03, 1.14103694e-03, 7.38552261e-05,\n",
       "        2.71077525e-04, 5.50335195e-03, 2.92910839e-04, 3.22722409e-04,\n",
       "        8.76997802e-04, 3.96578719e-04, 6.33092681e-04, 5.71985274e-04,\n",
       "        2.18799129e-04, 3.15354783e-04, 3.77200448e-04]),\n",
       " 'param_min_samples_leaf': masked_array(data=[1, 1, 1, 1, 1, 1, 1, 1, 1, 2, 2, 2, 2, 2, 2, 2, 2, 2,\n",
       "                    3, 3, 3, 3, 3, 3, 3, 3, 3],\n",
       "              mask=[False, False, False, False, False, False, False, False,\n",
       "                    False, False, False, False, False, False, False, False,\n",
       "                    False, False, False, False, False, False, False, False,\n",
       "                    False, False, False],\n",
       "        fill_value='?',\n",
       "             dtype=object),\n",
       " 'param_min_samples_split': masked_array(data=[2, 2, 2, 3, 3, 3, 4, 4, 4, 2, 2, 2, 3, 3, 3, 4, 4, 4,\n",
       "                    2, 2, 2, 3, 3, 3, 4, 4, 4],\n",
       "              mask=[False, False, False, False, False, False, False, False,\n",
       "                    False, False, False, False, False, False, False, False,\n",
       "                    False, False, False, False, False, False, False, False,\n",
       "                    False, False, False],\n",
       "        fill_value='?',\n",
       "             dtype=object),\n",
       " 'param_n_estimators': masked_array(data=[50, 100, 300, 50, 100, 300, 50, 100, 300, 50, 100, 300,\n",
       "                    50, 100, 300, 50, 100, 300, 50, 100, 300, 50, 100, 300,\n",
       "                    50, 100, 300],\n",
       "              mask=[False, False, False, False, False, False, False, False,\n",
       "                    False, False, False, False, False, False, False, False,\n",
       "                    False, False, False, False, False, False, False, False,\n",
       "                    False, False, False],\n",
       "        fill_value='?',\n",
       "             dtype=object),\n",
       " 'params': [{'min_samples_leaf': 1,\n",
       "   'min_samples_split': 2,\n",
       "   'n_estimators': 50},\n",
       "  {'min_samples_leaf': 1, 'min_samples_split': 2, 'n_estimators': 100},\n",
       "  {'min_samples_leaf': 1, 'min_samples_split': 2, 'n_estimators': 300},\n",
       "  {'min_samples_leaf': 1, 'min_samples_split': 3, 'n_estimators': 50},\n",
       "  {'min_samples_leaf': 1, 'min_samples_split': 3, 'n_estimators': 100},\n",
       "  {'min_samples_leaf': 1, 'min_samples_split': 3, 'n_estimators': 300},\n",
       "  {'min_samples_leaf': 1, 'min_samples_split': 4, 'n_estimators': 50},\n",
       "  {'min_samples_leaf': 1, 'min_samples_split': 4, 'n_estimators': 100},\n",
       "  {'min_samples_leaf': 1, 'min_samples_split': 4, 'n_estimators': 300},\n",
       "  {'min_samples_leaf': 2, 'min_samples_split': 2, 'n_estimators': 50},\n",
       "  {'min_samples_leaf': 2, 'min_samples_split': 2, 'n_estimators': 100},\n",
       "  {'min_samples_leaf': 2, 'min_samples_split': 2, 'n_estimators': 300},\n",
       "  {'min_samples_leaf': 2, 'min_samples_split': 3, 'n_estimators': 50},\n",
       "  {'min_samples_leaf': 2, 'min_samples_split': 3, 'n_estimators': 100},\n",
       "  {'min_samples_leaf': 2, 'min_samples_split': 3, 'n_estimators': 300},\n",
       "  {'min_samples_leaf': 2, 'min_samples_split': 4, 'n_estimators': 50},\n",
       "  {'min_samples_leaf': 2, 'min_samples_split': 4, 'n_estimators': 100},\n",
       "  {'min_samples_leaf': 2, 'min_samples_split': 4, 'n_estimators': 300},\n",
       "  {'min_samples_leaf': 3, 'min_samples_split': 2, 'n_estimators': 50},\n",
       "  {'min_samples_leaf': 3, 'min_samples_split': 2, 'n_estimators': 100},\n",
       "  {'min_samples_leaf': 3, 'min_samples_split': 2, 'n_estimators': 300},\n",
       "  {'min_samples_leaf': 3, 'min_samples_split': 3, 'n_estimators': 50},\n",
       "  {'min_samples_leaf': 3, 'min_samples_split': 3, 'n_estimators': 100},\n",
       "  {'min_samples_leaf': 3, 'min_samples_split': 3, 'n_estimators': 300},\n",
       "  {'min_samples_leaf': 3, 'min_samples_split': 4, 'n_estimators': 50},\n",
       "  {'min_samples_leaf': 3, 'min_samples_split': 4, 'n_estimators': 100},\n",
       "  {'min_samples_leaf': 3, 'min_samples_split': 4, 'n_estimators': 300}],\n",
       " 'split0_test_score': array([0.84799829, 0.85410953, 0.85443303, 0.85604387, 0.85858848,\n",
       "        0.8573005 , 0.84891806, 0.85277786, 0.8531103 , 0.85298666,\n",
       "        0.85876572, 0.85775115, 0.85298666, 0.85876572, 0.85775115,\n",
       "        0.85298666, 0.85876572, 0.85775115, 0.85137815, 0.85582234,\n",
       "        0.85560711, 0.85137815, 0.85582234, 0.85560711, 0.85137815,\n",
       "        0.85582234, 0.85560711]),\n",
       " 'split1_test_score': array([0.88420279, 0.86860328, 0.88064043, 0.88924196, 0.87555692,\n",
       "        0.88238683, 0.8828741 , 0.87313695, 0.87747496, 0.90473125,\n",
       "        0.88749591, 0.89079162, 0.90473125, 0.88749591, 0.89079162,\n",
       "        0.90473125, 0.88749591, 0.89079162, 0.90866073, 0.90463859,\n",
       "        0.9020905 , 0.90866073, 0.90463859, 0.9020905 , 0.90866073,\n",
       "        0.90463859, 0.9020905 ]),\n",
       " 'split2_test_score': array([0.74004442, 0.73850932, 0.74389897, 0.75945175, 0.75277063,\n",
       "        0.75245619, 0.75415985, 0.75909185, 0.76758393, 0.75893175,\n",
       "        0.7618156 , 0.76734829, 0.75893175, 0.7618156 , 0.76734829,\n",
       "        0.75893175, 0.7618156 , 0.76734829, 0.78407838, 0.78458853,\n",
       "        0.78179684, 0.78407838, 0.78458853, 0.78179684, 0.78407838,\n",
       "        0.78458853, 0.78179684]),\n",
       " 'split3_test_score': array([0.89562412, 0.89262298, 0.89228891, 0.88719501, 0.89262619,\n",
       "        0.89425221, 0.90067951, 0.8955715 , 0.89587559, 0.90556753,\n",
       "        0.90294719, 0.9035808 , 0.90556753, 0.90294719, 0.9035808 ,\n",
       "        0.90556753, 0.90294719, 0.9035808 , 0.90942817, 0.90966176,\n",
       "        0.90737011, 0.90942817, 0.90966176, 0.90737011, 0.90942817,\n",
       "        0.90966176, 0.90737011]),\n",
       " 'split4_test_score': array([0.88458118, 0.8778652 , 0.88093673, 0.87546303, 0.87245473,\n",
       "        0.87682256, 0.86906233, 0.86700591, 0.87239423, 0.86079024,\n",
       "        0.86197637, 0.86299472, 0.86079024, 0.86197637, 0.86299472,\n",
       "        0.86079024, 0.86197637, 0.86299472, 0.85112282, 0.85732425,\n",
       "        0.86086758, 0.85112282, 0.85732425, 0.86086758, 0.85112282,\n",
       "        0.85732425, 0.86086758]),\n",
       " 'mean_test_score': array([0.85049016, 0.84634206, 0.85043961, 0.85347912, 0.85039939,\n",
       "        0.85264366, 0.85113877, 0.84951681, 0.8532878 , 0.85660149,\n",
       "        0.85460016, 0.85649332, 0.85660149, 0.85460016, 0.85649332,\n",
       "        0.85660149, 0.85460016, 0.85649332, 0.86093365, 0.86240709,\n",
       "        0.86154643, 0.86093365, 0.86240709, 0.86154643, 0.86093365,\n",
       "        0.86240709, 0.86154643]),\n",
       " 'std_test_score': array([0.05751571, 0.05535237, 0.05469988, 0.04847011, 0.05000176,\n",
       "        0.05149711, 0.05136635, 0.0472697 , 0.04496438, 0.0534493 ,\n",
       "        0.04919411, 0.04771643, 0.0534493 , 0.04919411, 0.04771643,\n",
       "        0.0534493 , 0.04919411, 0.04771643, 0.04631174, 0.04503649,\n",
       "        0.04503191, 0.04631174, 0.04503649, 0.04503191, 0.04631174,\n",
       "        0.04503649, 0.04503191]),\n",
       " 'rank_test_score': array([23, 27, 24, 19, 25, 21, 22, 26, 20, 10, 16, 13, 10, 16, 13, 10, 16,\n",
       "        13,  7,  1,  4,  7,  1,  4,  7,  1,  4], dtype=int32),\n",
       " 'split0_train_score': array([0.99999992, 0.99999992, 0.99999995, 0.99698311, 0.99701478,\n",
       "        0.99722898, 0.99138011, 0.99247411, 0.9924341 , 0.96621617,\n",
       "        0.96826572, 0.9687639 , 0.96621617, 0.96826572, 0.9687639 ,\n",
       "        0.96621617, 0.96826572, 0.9687639 , 0.94186568, 0.93940874,\n",
       "        0.93921762, 0.94186568, 0.93940874, 0.93921762, 0.94186568,\n",
       "        0.93940874, 0.93921762]),\n",
       " 'split1_train_score': array([1.        , 0.99999998, 1.        , 0.99697307, 0.9970821 ,\n",
       "        0.99705727, 0.99113105, 0.99073192, 0.99060571, 0.96546771,\n",
       "        0.96574135, 0.96541026, 0.96546771, 0.96574135, 0.96541026,\n",
       "        0.96546771, 0.96574135, 0.96541026, 0.9344097 , 0.93447544,\n",
       "        0.93357795, 0.9344097 , 0.93447544, 0.93357795, 0.9344097 ,\n",
       "        0.93447544, 0.93357795]),\n",
       " 'split2_train_score': array([1.        , 0.99999997, 0.99999998, 0.99823521, 0.99815415,\n",
       "        0.99822294, 0.99274228, 0.9927686 , 0.99302682, 0.97880213,\n",
       "        0.97920642, 0.97990196, 0.97880213, 0.97920642, 0.97990196,\n",
       "        0.97880213, 0.97920642, 0.97990196, 0.95567823, 0.95563833,\n",
       "        0.95599871, 0.95567823, 0.95563833, 0.95599871, 0.95567823,\n",
       "        0.95563833, 0.95599871]),\n",
       " 'split3_train_score': array([1.        , 0.99999992, 0.99999998, 0.99555244, 0.99554757,\n",
       "        0.9957097 , 0.98990675, 0.99045212, 0.98990655, 0.96526514,\n",
       "        0.96616504, 0.96686925, 0.96526514, 0.96616504, 0.96686925,\n",
       "        0.96526514, 0.96616504, 0.96686925, 0.93611379, 0.93662011,\n",
       "        0.93637278, 0.93611379, 0.93662011, 0.93637278, 0.93611379,\n",
       "        0.93662011, 0.93637278]),\n",
       " 'split4_train_score': array([0.99999961, 0.99999977, 0.99999975, 0.99699147, 0.99719087,\n",
       "        0.99748673, 0.98954839, 0.9902958 , 0.99132404, 0.96133739,\n",
       "        0.96015296, 0.96114935, 0.96133739, 0.96015296, 0.96114935,\n",
       "        0.96133739, 0.96015296, 0.96114935, 0.93266436, 0.9338174 ,\n",
       "        0.93404404, 0.93266436, 0.9338174 , 0.93404404, 0.93266436,\n",
       "        0.9338174 , 0.93404404]),\n",
       " 'mean_train_score': array([0.99999991, 0.99999991, 0.99999993, 0.99694706, 0.99699789,\n",
       "        0.99714112, 0.99094172, 0.99134451, 0.99145944, 0.96741771,\n",
       "        0.9679063 , 0.96841894, 0.96741771, 0.9679063 , 0.96841894,\n",
       "        0.96741771, 0.9679063 , 0.96841894, 0.94014635, 0.93999201,\n",
       "        0.93984222, 0.94014635, 0.93999201, 0.93984222, 0.94014635,\n",
       "        0.93999201, 0.93984222]),\n",
       " 'std_train_score': array([1.51796060e-07, 7.57357755e-08, 9.11912404e-08, 8.49499224e-04,\n",
       "        8.34860991e-04, 8.18961617e-04, 1.13864781e-03, 1.05597748e-03,\n",
       "        1.14588679e-03, 5.94062242e-03, 6.25548092e-03, 6.26545061e-03,\n",
       "        5.94062242e-03, 6.25548092e-03, 6.26545061e-03, 5.94062242e-03,\n",
       "        6.25548092e-03, 6.26545061e-03, 8.35878218e-03, 8.06319654e-03,\n",
       "        8.32249263e-03, 8.35878218e-03, 8.06319654e-03, 8.32249263e-03,\n",
       "        8.35878218e-03, 8.06319654e-03, 8.32249263e-03])}"
      ]
     },
     "execution_count": 125,
     "metadata": {},
     "output_type": "execute_result"
    }
   ],
   "source": [
    "gs.cv_results_"
   ]
  }
 ],
 "metadata": {
  "kernelspec": {
   "display_name": "Python 3",
   "language": "python",
   "name": "python3"
  },
  "language_info": {
   "codemirror_mode": {
    "name": "ipython",
    "version": 3
   },
   "file_extension": ".py",
   "mimetype": "text/x-python",
   "name": "python",
   "nbconvert_exporter": "python",
   "pygments_lexer": "ipython3",
   "version": "3.7.3"
  }
 },
 "nbformat": 4,
 "nbformat_minor": 2
}
